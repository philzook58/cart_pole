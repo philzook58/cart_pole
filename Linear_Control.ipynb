{
 "cells": [
  {
   "cell_type": "code",
   "execution_count": 1,
   "metadata": {
    "collapsed": true
   },
   "outputs": [],
   "source": [
    "import numpy as np\n",
    "import sympy as sym\n",
    "from sympy import init_printing\n",
    "init_printing() "
   ]
  },
  {
   "cell_type": "code",
   "execution_count": 12,
   "metadata": {
    "collapsed": true
   },
   "outputs": [],
   "source": [
    "t= sym.Symbol('t')\n",
    "state = map( lambda y: sym.Function(y)(t),'x_c dx_c \\\\theta d\\\\theta'.split() )\n",
    "xc, dxc, theta, dtheta = state\n",
    "l, m, g, R = sym.symbols('l m g L')"
   ]
  },
  {
   "cell_type": "code",
   "execution_count": 14,
   "metadata": {},
   "outputs": [
    {
     "data": {
      "image/png": "[encoded data removed]",
      "text/latex": [
       "$$- \\frac{L m}{6} \\left(- 2 L \\frac{d}{d t} \\operatorname{d\\theta}{\\left (t \\right )} + 3 \\operatorname{dx_{c}}{\\left (t \\right )} \\cos{\\left (\\theta{\\left (t \\right )} \\right )} \\frac{d}{d t} \\theta{\\left (t \\right )} + 3 \\sin{\\left (\\theta{\\left (t \\right )} \\right )} \\frac{d}{d t} \\operatorname{dx_{c}}{\\left (t \\right )}\\right) - \\frac{m}{6} \\left(- 3 L \\operatorname{d\\theta}{\\left (t \\right )} \\operatorname{dx_{c}}{\\left (t \\right )} \\cos{\\left (\\theta{\\left (t \\right )} \\right )} - 6 g \\cos{\\left (\\theta{\\left (t \\right )} \\right )}\\right)$$"
      ],
      "text/plain": [
       "      ⎛      d                                         d                      \n",
       "  L⋅m⋅⎜- 2⋅L⋅──(d\\theta(t)) + 3⋅dx_c(t)⋅cos(\\theta(t))⋅──(\\theta(t)) + 3⋅sin(\\\n",
       "      ⎝      dt                                        dt                     \n",
       "- ────────────────────────────────────────────────────────────────────────────\n",
       "                                                  6                           \n",
       "\n",
       "          d          ⎞                                                        \n",
       "theta(t))⋅──(dx_c(t))⎟                                                        \n",
       "          dt         ⎠   m⋅(-3⋅L⋅d\\theta(t)⋅dx_c(t)⋅cos(\\theta(t)) - 6⋅g⋅cos(\\\n",
       "────────────────────── - ─────────────────────────────────────────────────────\n",
       "                                                        6                     \n",
       "\n",
       "          \n",
       "          \n",
       "theta(t)))\n",
       "──────────\n",
       "          "
      ]
     },
     "execution_count": 14,
     "metadata": {},
     "output_type": "execute_result"
    }
   ],
   "source": [
    "#m = 1\n",
    "#g = 9.8\n",
    "#L = 0.1\n",
    "#I = m / l * l**3 / 3\n",
    "rho = m / R\n",
    "Kx = rho * sym.integrate((-l * sym.sin(theta) * dtheta + dxc) **2 / 2 , (l,0,R))\n",
    "Ky = rho * sym.integrate((l * sym.cos(theta) * dtheta) **2 / 2 , (l,0,R))\n",
    "V = m * g * sym.sin(theta) * R / 2\n",
    "L = Kx + Ky - V\n",
    "\n",
    "L = sym.simplify(sym.expand(L))\n",
    "eqoM = sym.diff(L ,dtheta , t) - sym.diff(L, theta)\n",
    "eqoM"
   ]
  },
  {
   "cell_type": "code",
   "execution_count": 16,
   "metadata": {},
   "outputs": [
    {
     "data": {
      "image/png": "[encoded data removed]",
      "text/latex": [
       "$$\\frac{3 \\frac{d^{2}x_c}{dt^2}}{2 L} \\sin{\\left (\\theta{\\left (t \\right )} \\right )} - \\frac{3 g}{L^{2}} \\cos{\\left (\\theta{\\left (t \\right )} \\right )}$$"
      ],
      "text/plain": [
       "3⋅\\frac{d_c}{dt__{2}x__2}⋅sin(\\theta(t))   3⋅g⋅cos(\\theta(t))\n",
       "──────────────────────────────────────── - ──────────────────\n",
       "                  2⋅L                               2        \n",
       "                                                   L         "
      ]
     },
     "execution_count": 16,
     "metadata": {},
     "output_type": "execute_result"
    }
   ],
   "source": [
    "ddtheta = sym.solve(eqoM, sym.Derivative(dtheta, t))[0]\n",
    "ddxc =  sym.Symbol('\\\\frac{d^{2}x_c}{dt^2}')\n",
    "ddtheta = ddtheta.subs(sym.Derivative(theta,t), dtheta).subs(sym.Derivative(dxc,t), ddxc)\n",
    "ddtheta = sym.expand(ddtheta)"
   ]
  },
  {
   "cell_type": "code",
   "execution_count": 17,
   "metadata": {
    "collapsed": true
   },
   "outputs": [],
   "source": [
    " f = sym.lambdify((ddxc, theta, dtheta, R, g), ddtheta)"
   ]
  },
  {
   "cell_type": "code",
   "execution_count": 23,
   "metadata": {
    "collapsed": true
   },
   "outputs": [],
   "source": [
    "import matplotlib.pyplot as plt\n",
    "%matplotlib inline"
   ]
  },
  {
   "cell_type": "code",
   "execution_count": 29,
   "metadata": {},
   "outputs": [
    {
     "data": {
      "text/plain": [
       "[<matplotlib.lines.Line2D at 0x1084dbe48>]"
      ]
     },
     "execution_count": 29,
     "metadata": {},
     "output_type": "execute_result"
    },
    {
     "data": {
      "image/png": "[encoded data removed]",
      "text/plain": [
       "<matplotlib.figure.Figure at 0x108398e10>"
      ]
     },
     "metadata": {},
     "output_type": "display_data"
    }
   ],
   "source": [
    "thetas = []\n",
    "dthetas = []\n",
    "N = 100\n",
    "theta = np.pi/2\n",
    "thetadot = 0.1\n",
    "dt = 1/30\n",
    "ts = np.arange(N)*dt\n",
    "g = 9.8\n",
    "L = 0.4\n",
    "a = 0\n",
    "for i in range(N):\n",
    "    theta += thetadot * dt\n",
    "    thetadot += (3 / 2 * a * np.sin(theta) / L - 3 * g * np.cos(theta) / L**2) * dt\n",
    "    thetas.append(theta)\n",
    "    dthetas.append(thetadot)\n",
    "plt.plot(ts,thetas)"
   ]
  },
  {
   "cell_type": "markdown",
   "metadata": {},
   "source": [
    "Feedback control"
   ]
  },
  {
   "cell_type": "code",
   "execution_count": 212,
   "metadata": {},
   "outputs": [
    {
     "name": "stdout",
     "output_type": "stream",
     "text": [
      "-54.0\n"
     ]
    },
    {
     "data": {
      "text/plain": [
       "[<matplotlib.lines.Line2D at 0x1134e31d0>]"
      ]
     },
     "execution_count": 212,
     "metadata": {},
     "output_type": "execute_result"
    },
    {
     "data": {
      "image/png": "[encoded data removed]",
      "text/plain": [
       "<matplotlib.figure.Figure at 0x1133fbcc0>"
      ]
     },
     "metadata": {},
     "output_type": "display_data"
    }
   ],
   "source": [
    "thetas = []\n",
    "dthetas = []\n",
    "N = 200\n",
    "theta = np.pi/2\n",
    "thetadot = 0.1\n",
    "dt = 1.0/30\n",
    "ts = np.arange(N)*dt\n",
    "g = 9.8\n",
    "L = 0.4\n",
    "a = 0\n",
    "Kd = 10\n",
    "Kd = -(g + 1) * 2 / L # The one puts us over gravity\n",
    "print(Kd)\n",
    "for i in range(N):\n",
    "    theta += thetadot * dt\n",
    "    a = Kd * (theta - np.pi/2)\n",
    "    thetadot += (3 / 2 * a * np.sin(theta) / L - 3 * g * np.cos(theta) / L**2) * dt\n",
    "    #print(thetadot)\n",
    "    thetas.append(theta)\n",
    "    dthetas.append(thetadot)\n",
    "plt.plot(ts,thetas)"
   ]
  },
  {
   "cell_type": "markdown",
   "metadata": {},
   "source": [
    "Thetadot proprptional control"
   ]
  },
  {
   "cell_type": "code",
   "execution_count": 109,
   "metadata": {},
   "outputs": [
    {
     "data": {
      "text/plain": [
       "[<matplotlib.lines.Line2D at 0x10d209198>]"
      ]
     },
     "execution_count": 109,
     "metadata": {},
     "output_type": "execute_result"
    },
    {
     "data": {
      "image/png": "[encoded data removed]",
      "text/plain": [
       "<matplotlib.figure.Figure at 0x10d07a940>"
      ]
     },
     "metadata": {},
     "output_type": "display_data"
    }
   ],
   "source": [
    "thetas = []\n",
    "dthetas = []\n",
    "N = 100\n",
    "theta = np.pi/2\n",
    "thetadot = 0.01\n",
    "dt = 1/30\n",
    "ts = np.arange(N)*dt\n",
    "g = 9.8\n",
    "L = 0.4\n",
    "a = 0\n",
    "Kd = 5.0\n",
    "for i in range(N):\n",
    "    theta += thetadot * dt\n",
    "    a = Kd * (thetadot)\n",
    "    thetadot += (3 / 2 * a * np.sin(theta) / L - 3 * g * np.cos(theta) / L**2) * dt\n",
    "    thetas.append(theta)\n",
    "    dthetas.append(thetadot)\n",
    "plt.plot(ts,thetas)"
   ]
  },
  {
   "cell_type": "markdown",
   "metadata": {},
   "source": [
    "thetadot and theta proportional control"
   ]
  },
  {
   "cell_type": "code",
   "execution_count": 260,
   "metadata": {},
   "outputs": [
    {
     "data": {
      "text/plain": [
       "[<matplotlib.lines.Line2D at 0x11607f588>]"
      ]
     },
     "execution_count": 260,
     "metadata": {},
     "output_type": "execute_result"
    },
    {
     "data": {
      "image/png": "[encoded data removed]",
      "text/plain": [
       "<matplotlib.figure.Figure at 0x115fb4c18>"
      ]
     },
     "metadata": {},
     "output_type": "display_data"
    }
   ],
   "source": [
    "thetas = []\n",
    "dthetas = []\n",
    "N = 100\n",
    "theta = np.pi/2 + 0.5\n",
    "thetadot = 0#0.9\n",
    "dt = 1/30\n",
    "ts = np.arange(N)*dt\n",
    "g = 9.8\n",
    "L = 0.4\n",
    "a = 0\n",
    "Kp = -(g + 1) * 2 / L\n",
    "Kpd = -10\n",
    "for i in range(N):\n",
    "    a = Kpd * (thetadot) + Kp * (theta - np.pi/2)\n",
    "    theta += thetadot * dt \n",
    "    thetadot += (3 / 2 * a * np.sin(theta) / L - 3 * g * np.cos(theta) / L**2) * dt\n",
    "    thetas.append(theta)\n",
    "    dthetas.append(thetadot)\n",
    "plt.plot(ts,thetas)"
   ]
  },
  {
   "cell_type": "code",
   "execution_count": 238,
   "metadata": {},
   "outputs": [
    {
     "data": {
      "text/plain": [
       "[<matplotlib.lines.Line2D at 0x114c7da58>]"
      ]
     },
     "execution_count": 238,
     "metadata": {},
     "output_type": "execute_result"
    },
    {
     "data": {
      "image/png": "[encoded data removed]",
      "text/plain": [
       "<matplotlib.figure.Figure at 0x1147dad30>"
      ]
     },
     "metadata": {},
     "output_type": "display_data"
    }
   ],
   "source": [
    "thetas = []\n",
    "dthetas = []\n",
    "N = 100\n",
    "theta = np.pi/2\n",
    "thetadot = 0.001\n",
    "dt = 1/30\n",
    "ts = np.arange(N)*dt\n",
    "g = 9.8\n",
    "L = 0.4\n",
    "a = 0\n",
    "Kp = -(g + 1) * 2 / L\n",
    "Kpd = 0\n",
    "for i in range(N):\n",
    "    a = 20 * np.sign(Kpd * (thetadot) + Kp * (theta - np.pi/2))\n",
    "    theta += thetadot * dt\n",
    "    thetadot += (3 / 2 * a * np.sin(theta) / L - 3 * g * np.cos(theta) / L**2) * dt\n",
    "    thetas.append(theta)\n",
    "    dthetas.append(thetadot)\n",
    "plt.plot(ts,thetas)"
   ]
  },
  {
   "cell_type": "markdown",
   "metadata": {},
   "source": [
    "Hmm. Does not appear to be particularly controllable? Nah, it is. I was looking in the totally wrong parameter space.\n",
    "Now let's look at delay"
   ]
  },
  {
   "cell_type": "code",
   "execution_count": 228,
   "metadata": {},
   "outputs": [
    {
     "name": "stdout",
     "output_type": "stream",
     "text": [
      "-54.0\n"
     ]
    },
    {
     "data": {
      "text/plain": [
       "[<matplotlib.lines.Line2D at 0x1142a84a8>]"
      ]
     },
     "execution_count": 228,
     "metadata": {},
     "output_type": "execute_result"
    },
    {
     "data": {
      "image/png": "[encoded data removed]",
      "text/plain": [
       "<matplotlib.figure.Figure at 0x11392d4a8>"
      ]
     },
     "metadata": {},
     "output_type": "display_data"
    }
   ],
   "source": [
    "thetas = []\n",
    "dthetas = []\n",
    "N = 200\n",
    "delay = 1\n",
    "theta = np.pi/2\n",
    "thetadot = 0#0.00001\n",
    "dt = 1.0/30\n",
    "ts = np.arange(N+delay)*dt\n",
    "g = 9.8\n",
    "L = 0.4\n",
    "a = 0\n",
    "Kd = 10\n",
    "Kd = -(g + 1) * 2 / L\n",
    "print(Kd)\n",
    "\n",
    "for i in range(delay):\n",
    "    theta += thetadot * dt\n",
    "    a = 0\n",
    "    thetadot += (3 / 2 * a * np.sin(theta) / L - 3 * g * np.cos(theta) / L**2) * dt\n",
    "    #print(thetadot)\n",
    "    thetas.append(theta)\n",
    "    dthetas.append(thetadot)\n",
    "for i in range(N):\n",
    "    theta += thetadot * dt\n",
    "    a = Kd * (thetas[i] - np.pi/2)\n",
    "    thetadot += (3 / 2 * a * np.sin(theta) / L - 3 * g * np.cos(theta) / L**2) * dt\n",
    "    #print(thetadot)\n",
    "    thetas.append(theta)\n",
    "    dthetas.append(thetadot)\n",
    "plt.plot(ts,thetas)"
   ]
  },
  {
   "cell_type": "markdown",
   "metadata": {},
   "source": [
    "Turns a formerly stable control into unstable. Let's add a predictor. Helps a lot, it damn well should since the predictor copies "
   ]
  },
  {
   "cell_type": "code",
   "execution_count": 282,
   "metadata": {},
   "outputs": [
    {
     "name": "stdout",
     "output_type": "stream",
     "text": [
      "-54.0\n"
     ]
    },
    {
     "data": {
      "text/plain": [
       "[<matplotlib.lines.Line2D at 0x1176463c8>]"
      ]
     },
     "execution_count": 282,
     "metadata": {},
     "output_type": "execute_result"
    },
    {
     "data": {
      "image/png": "[encoded data removed]",
      "text/plain": [
       "<matplotlib.figure.Figure at 0x11639a0b8>"
      ]
     },
     "metadata": {},
     "output_type": "display_data"
    }
   ],
   "source": [
    "thetas = []\n",
    "dthetas = []\n",
    "N = 200\n",
    "delay = 1\n",
    "theta = np.pi/2\n",
    "thetadot = 0.01\n",
    "dt = 1.0/30\n",
    "ts = np.arange(N+delay)*dt\n",
    "g = 9.8\n",
    "L = 0.4\n",
    "a = 0\n",
    "Kd = 10\n",
    "Kd = -(g + 1) * 2 / L\n",
    "print(Kd)\n",
    "\n",
    "for i in range(delay):\n",
    "    theta += thetadot * dt\n",
    "    a = 0\n",
    "    thetadot += (3 / 2 * a * np.sin(theta) / L - 3 * g * np.cos(theta) / L**2) * dt\n",
    "    #print(thetadot)\n",
    "    thetas.append(theta)\n",
    "    dthetas.append(thetadot)\n",
    "def predict(theta,thetadot, n):\n",
    "    for i in range(n):\n",
    "        theta += thetadot * dt\n",
    "        a = 0\n",
    "        thetadot += (3 / 2 * a * np.sin(theta) / L - 3 * g * np.cos(theta) / L**2) * dt\n",
    "    return theta\n",
    "    \n",
    "\n",
    "for i in range(N):\n",
    "    theta += thetadot * dt\n",
    "    a = Kd * (predict(thetas[i],thetadot, delay) - np.pi/2)\n",
    "    thetadot += (3 / 2 * a * np.sin(theta) / L - 3 * g * np.cos(theta) / L**2) * dt\n",
    "    #print(thetadot)\n",
    "    thetas.append(theta)\n",
    "    dthetas.append(thetadot)\n",
    "plt.plot(ts,thetas)"
   ]
  },
  {
   "cell_type": "code",
   "execution_count": 330,
   "metadata": {},
   "outputs": [
    {
     "name": "stdout",
     "output_type": "stream",
     "text": [
      "-54.0\n",
      "0.0\n",
      "0.00118530153702\n",
      "0.00328776929301\n",
      "0.00684982925055\n",
      "0.0127210235477\n",
      "0.0103437475567\n",
      "0.00928039042659\n",
      "0.00472057018429\n",
      "-0.00602029819854\n",
      "-0.0272488124155\n",
      "-0.0389995046689\n",
      "-0.0535600628038\n",
      "-0.061507768411\n",
      "-0.0521839171531\n",
      "-0.00699503618449\n",
      "0.0448259148105\n",
      "0.123379669433\n",
      "0.214412708724\n",
      "0.290149882851\n",
      "0.288930848026\n",
      "0.228035778085\n",
      "0.0447931005509\n",
      "-0.261030298234\n",
      "-0.645176546845\n",
      "-0.99331524575\n",
      "-1.32103376754\n",
      "-1.46606133935\n",
      "-1.33529709035\n",
      "-0.867207418176\n",
      "-0.109607363723\n",
      "0.893991373405\n",
      "1.7230646686\n",
      "2.02121964656\n",
      "0.579972043342\n",
      "-0.245362935025\n",
      "-0.308792487935\n",
      "-0.516970454444\n",
      "2.93388229236\n",
      "-0.510281191347\n",
      "-0.968720669763\n",
      "-1.50548545193\n",
      "1.02779199406\n",
      "2.5605218254\n",
      "-0.652404959579\n",
      "-0.686337897569\n",
      "-0.0234699061667\n",
      "-0.0865346970915\n",
      "0.981958011087\n",
      "1.93473437382\n",
      "0.332154832641\n"
     ]
    },
    {
     "data": {
      "text/plain": [
       "[<matplotlib.lines.Line2D at 0x11a5682b0>]"
      ]
     },
     "execution_count": 330,
     "metadata": {},
     "output_type": "execute_result"
    },
    {
     "data": {
      "image/png": "[encoded data removed]",
      "text/plain": [
       "<matplotlib.figure.Figure at 0x11a176e10>"
      ]
     },
     "metadata": {},
     "output_type": "display_data"
    }
   ],
   "source": [
    "\n",
    "thetas = []\n",
    "dthetas = []\n",
    "ass = []\n",
    "N = 50\n",
    "delay = 5\n",
    "theta = np.pi/2\n",
    "thetadot = 0.01\n",
    "dt = 1.0/30\n",
    "ts = np.arange(N+delay)*dt\n",
    "g = 9.8\n",
    "L = 0.4\n",
    "a = 0\n",
    "Kd = 10\n",
    "Kd = -(g + 1) * 2 / L\n",
    "print(Kd)\n",
    "Kpd = 0\n",
    "\n",
    "for i in range(delay):\n",
    "    theta += thetadot * dt\n",
    "    a = 0\n",
    "    ass.append(a)\n",
    "    thetadot += (3 / 2 * a * np.sin(theta) / L - 3 * g * np.cos(theta) / L**2) * dt\n",
    "    #print(thetadot)\n",
    "    thetas.append(theta)\n",
    "    dthetas.append(thetadot)\n",
    "    \n",
    "def predict(theta,thetadot, ass, n):\n",
    "    thetadot += 0#np.random.randn()*0.01\n",
    "    theta += 0#np.random.randn()*0.01\n",
    "    \n",
    "    for i in range(n):\n",
    "        theta += thetadot * dt\n",
    "        a = ass[i]\n",
    "        thetadot += (3 / 2 * a * np.sin(theta) / L - 3 * g * np.cos(theta) / L**2) * dt\n",
    "    return theta, thetadot\n",
    "    \n",
    "\n",
    "for i in range(N):\n",
    "    \n",
    "    ptheta, pthetadot = predict(thetas[i],dthetas[i],ass[i:i+delay], delay)\n",
    "    a = Kd * (ptheta - np.pi/2) + Kpd * (pthetadot) #+ np.random.randn()*0.01\n",
    "    theta += thetadot * dt\n",
    "    print(ptheta-theta)\n",
    "    ass.append(a)\n",
    "    thetadot += (3 / 2 * a * np.sin(theta) / L - 3 * g * np.cos(theta) / L**2) * dt\n",
    "    #print(thetadot)\n",
    "    thetas.append(theta)\n",
    "    dthetas.append(thetadot)\n",
    "plt.plot(ts,thetas)"
   ]
  },
  {
   "cell_type": "markdown",
   "metadata": {},
   "source": [
    "Still Ok. Some rare events? Seems acceptably robust to observation and control noise. However, upon somethreshold being reached in noise it becomes uncontrollable\n",
    "So. Lessons: We should measure the falling paramter g / L. Uhh. Actually We hsouldn't really have to. "
   ]
  },
  {
   "cell_type": "code",
   "execution_count": 329,
   "metadata": {},
   "outputs": [
    {
     "name": "stdout",
     "output_type": "stream",
     "text": [
      "-54.0\n",
      "0.00292780216117\n",
      "0.00368466314101\n",
      "0.00357859945211\n",
      "0.00205678775851\n",
      "-0.00226904308133\n",
      "-0.00741532956112\n",
      "-0.0156590538954\n",
      "-0.0280849995153\n",
      "-0.0442100017019\n",
      "-0.0567587345647\n",
      "-0.0721075320035\n",
      "-0.0815039337181\n",
      "-0.0726855485891\n",
      "-0.0328854901872\n",
      "0.0351121653048\n",
      "0.15606747683\n",
      "0.351481939183\n",
      "0.617941234598\n",
      "0.933996048672\n",
      "1.26597333231\n",
      "1.55297805883\n",
      "1.87925517398\n",
      "2.53419209205\n",
      "2.43514768665\n",
      "0.480581330118\n",
      "-4.53684448256\n",
      "-8.23059626518\n",
      "-3.15920946929\n",
      "8.12328223318\n",
      "22.7091487757\n",
      "9.10439334273\n",
      "-6.56847067304\n",
      "-9.2104063021\n",
      "-12.1557974868\n",
      "-4.7462187387\n",
      "-24.4394005542\n",
      "-47.512894583\n",
      "-36.2069456367\n",
      "9.06427804962\n",
      "21.7670532219\n",
      "49.8805306626\n",
      "37.0941740657\n",
      "83.0717102423\n",
      "51.7269042841\n",
      "163.669253564\n",
      "7.37687236525\n",
      "-86.7222428355\n",
      "-242.482372266\n",
      "-244.437793217\n",
      "-156.750768224\n",
      "112.334783569\n",
      "245.742797257\n",
      "187.171912456\n",
      "-82.8037013722\n",
      "-1.7348028553\n",
      "257.799168741\n",
      "-141.422498122\n",
      "142.921174603\n",
      "-12.7026286174\n",
      "-70.7061750228\n",
      "-184.136242408\n",
      "47.4907272395\n",
      "184.675879496\n",
      "463.573534869\n",
      "664.011925398\n",
      "370.680513575\n",
      "77.2213433968\n",
      "-200.818707952\n",
      "120.403640156\n",
      "213.494770653\n",
      "983.501059736\n",
      "832.552287819\n",
      "-905.345832392\n",
      "1374.94504058\n",
      "3148.03633661\n",
      "4300.04525882\n",
      "4129.58681896\n",
      "818.751814675\n",
      "-91.345663719\n",
      "5322.03659432\n",
      "11904.6203033\n",
      "14049.6351157\n",
      "34890.0364355\n",
      "28138.2682026\n",
      "36794.8144908\n",
      "46288.0941378\n",
      "2452.94553527\n",
      "-20155.7518204\n",
      "-123256.56956\n",
      "-185129.780044\n",
      "-64233.7196971\n",
      "110201.226771\n",
      "143226.289674\n",
      "-193051.924391\n",
      "-232169.577606\n",
      "-79607.0857871\n",
      "135193.202815\n",
      "-74627.6979515\n",
      "-541207.040747\n",
      "-513232.990697\n",
      "-839537.96384\n",
      "-478813.541229\n",
      "28161.3674251\n",
      "811511.335309\n",
      "1055968.54877\n",
      "2174677.91362\n",
      "3380382.18682\n",
      "2383941.89479\n",
      "7210864.12293\n",
      "4854688.60231\n",
      "1088809.84123\n",
      "-3606497.04534\n",
      "-10312664.8111\n",
      "-11093945.9549\n",
      "-12155800.4058\n",
      "-8415426.43042\n",
      "10595077.5897\n",
      "-2325720.94981\n",
      "-9457499.23053\n",
      "20087535.4173\n",
      "22449350.2448\n",
      "3809132.27358\n",
      "2354476.04326\n",
      "14054005.6237\n",
      "67307426.8602\n",
      "43504197.1\n",
      "45959953.8268\n",
      "6520733.26812\n",
      "-65627148.3604\n",
      "-112153868.127\n",
      "-129216956.109\n",
      "-71462654.1903\n",
      "89233549.2358\n",
      "-120039785.98\n",
      "315841292.784\n",
      "49677820.134\n",
      "-56368800.5872\n",
      "-195662932.394\n",
      "-403268318.29\n",
      "262206237.21\n",
      "547369003.588\n",
      "855483291.597\n",
      "1092742530.9\n",
      "773437537.571\n",
      "801318054.595\n",
      "896901590.688\n",
      "309837895.983\n",
      "767226094.874\n",
      "1430855113.64\n",
      "442363646.122\n",
      "2498170870.46\n",
      "-3467289738.99\n",
      "-10205837393.5\n",
      "-17870208680.8\n",
      "-16564193483.5\n",
      "-19924364362.4\n",
      "-22664946435.0\n",
      "-12337820897.4\n",
      "-24667758484.8\n",
      "-37830664229.2\n",
      "-59386040187.9\n",
      "-110690504079.0\n",
      "-57292038591.6\n",
      "-32460130764.6\n",
      "108849385090.0\n",
      "256177771579.0\n",
      "130357480487.0\n",
      "-84673666207.6\n",
      "-17908915854.3\n",
      "354820644994.0\n",
      "215379369228.0\n",
      "-113823368307.0\n",
      "-56162015756.2\n",
      "166119803815.0\n",
      "924198218199.0\n",
      "793696039228.0\n",
      "671075715125.0\n",
      "334312528512.0\n",
      "594148367285.0\n",
      "745127956837.0\n",
      "868058821496.0\n",
      "369739759958.0\n",
      "-3.73854092772e+12\n",
      "-1.99678660274e+12\n",
      "-7.03041184589e+12\n",
      "-3.5406156008e+12\n",
      "2.66372715173e+12\n",
      "6.66448763243e+12\n",
      "1.07793469329e+13\n",
      "7.58780596152e+12\n",
      "8.45245424318e+12\n",
      "2.25463952075e+12\n",
      "-6.11006240292e+12\n",
      "4.93752429996e+12\n",
      "2.0797177953e+12\n",
      "-1.26003933707e+12\n",
      "-2.08917977196e+13\n",
      "-5.6405900744e+13\n",
      "-4.10036709279e+13\n",
      "-1.03376827271e+13\n",
      "2.12674481525e+13\n",
      "6.22519640755e+13\n",
      "-3.97401104246e+13\n",
      "-9.35438828765e+13\n",
      "-1.13104538369e+14\n",
      "-1.54011816742e+14\n",
      "-7.36082830372e+12\n",
      "-1.25341413149e+14\n",
      "-2.73287692993e+14\n",
      "-4.83620978665e+14\n",
      "-6.35282329312e+14\n",
      "-1.01027443181e+14\n",
      "-1.55603422878e+14\n",
      "6.92268547921e+14\n",
      "9.59039657969e+14\n",
      "1.43964620703e+15\n",
      "4.33303431994e+15\n",
      "4.12702270344e+15\n",
      "3.69094111394e+15\n",
      "3.66326294137e+15\n",
      "6.79315365048e+15\n",
      "3.41507388059e+15\n",
      "6.82187701688e+15\n",
      "9.54457109567e+15\n",
      "1.65583933257e+16\n",
      "3.42773776739e+16\n",
      "2.86839736554e+16\n",
      "-1.49501428151e+14\n",
      "-2.98057365375e+16\n",
      "3.38794443609e+15\n",
      "-1.95422726202e+16\n",
      "7.84401166307e+16\n",
      "6.68121019616e+16\n",
      "-4.19139377045e+15\n",
      "8.48500949909e+16\n",
      "-1.74137233413e+17\n",
      "-2.0494470216e+17\n",
      "-1.92024461199e+17\n",
      "-6.06107400799e+15\n",
      "-5.95091826699e+16\n",
      "-6.03354428607e+17\n",
      "2.39475446103e+16\n",
      "7.08569373625e+17\n",
      "5.8469691671e+17\n",
      "1.48357637519e+17\n",
      "-4.96886221864e+17\n",
      "-1.39248736443e+18\n",
      "-9.81582752448e+17\n",
      "-8.62208343362e+16\n",
      "-1.05932485782e+17\n",
      "1.10611255811e+17\n",
      "-1.76790893396e+18\n",
      "-2.49022967055e+18\n",
      "-1.96506423679e+18\n",
      "-4.64516696242e+18\n",
      "-3.51847593719e+18\n",
      "-9.46329372551e+18\n",
      "-1.39437038609e+19\n",
      "-1.40778048722e+19\n",
      "-1.06856487703e+19\n",
      "8.03234186899e+18\n",
      "3.43102321879e+19\n",
      "5.65915240945e+19\n",
      "6.74787252132e+19\n",
      "8.18529767318e+19\n",
      "4.77373584289e+19\n",
      "1.51508573166e+20\n",
      "1.33515277965e+20\n",
      "7.18373919575e+19\n",
      "2.9872858027e+19\n",
      "-1.81286402359e+20\n",
      "-5.04043982551e+20\n",
      "-8.11002369377e+20\n",
      "-9.59714409705e+20\n",
      "-1.33021817916e+21\n",
      "-7.97415287128e+20\n",
      "3.51294269315e+20\n",
      "9.7690496377e+20\n",
      "1.17015180626e+21\n",
      "1.61006054518e+21\n",
      "-6.0547263757e+19\n",
      "-4.42999353272e+21\n",
      "-2.32288709222e+21\n",
      "-4.39435473071e+21\n",
      "2.72820687143e+19\n",
      "-4.02983188144e+21\n",
      "-4.1602432231e+21\n",
      "-9.90924874208e+21\n",
      "-2.03554736958e+22\n",
      "-1.48521103716e+22\n",
      "-2.38239981358e+22\n",
      "-3.72727648837e+21\n",
      "2.44646399201e+22\n",
      "1.89127315002e+22\n",
      "1.22075995693e+21\n",
      "-4.54962938287e+22\n",
      "-7.46036398406e+22\n",
      "-3.72021894667e+22\n",
      "9.11174837292e+22\n",
      "-5.71899639315e+22\n",
      "-6.19482494007e+22\n",
      "-4.33835017181e+22\n",
      "1.97100549297e+22\n",
      "1.27042319121e+23\n",
      "4.39331587251e+23\n",
      "2.22038847191e+23\n",
      "1.35324502629e+23\n",
      "-1.7699201807e+23\n",
      "-7.03967710193e+23\n",
      "-1.55523120664e+23\n",
      "-8.34431320267e+22\n",
      "-3.57310480924e+22\n",
      "-4.64471361405e+23\n",
      "6.41955224665e+22\n",
      "-6.98663711341e+22\n",
      "-8.17324162205e+23\n",
      "-1.16551156532e+24\n",
      "-1.890215549e+24\n",
      "-1.51135328061e+24\n",
      "-1.68087448959e+23\n",
      "-1.68781203275e+22\n",
      "-8.08249494528e+22\n",
      "-1.67498631478e+24\n",
      "-2.28934350022e+24\n",
      "-1.09008303751e+23\n",
      "5.32684818469e+24\n",
      "5.20281072711e+24\n",
      "5.79728035108e+24\n",
      "1.6653822392e+25\n",
      "3.67747818294e+25\n",
      "2.37259330378e+25\n",
      "1.34893080576e+25\n",
      "1.2038177364e+24\n",
      "-3.73395401274e+25\n",
      "-9.21777718026e+25\n",
      "-7.64991498784e+25\n",
      "-2.34328936554e+25\n",
      "5.97566728564e+25\n",
      "8.83171660914e+25\n",
      "-5.52401687788e+24\n",
      "1.22655007541e+25\n",
      "1.52452765458e+25\n",
      "-1.35808917939e+25\n",
      "-2.20872280531e+25\n",
      "-1.0330479598e+24\n",
      "-1.0411824885e+25\n",
      "-3.27094221189e+25\n",
      "-6.54584633505e+25\n",
      "2.73830896621e+25\n",
      "4.68095319885e+25\n",
      "5.2675979261e+25\n",
      "3.28971666249e+25\n",
      "-4.97912406387e+25\n",
      "-4.46424380787e+25\n",
      "3.1857921582e+25\n",
      "5.71463493697e+25\n",
      "6.46397181708e+25\n",
      "-2.35957662828e+25\n",
      "-7.7046931184e+25\n",
      "-1.42489204494e+26\n",
      "-7.19487334468e+25\n",
      "1.38303689311e+25\n",
      "1.48975535527e+26\n",
      "2.32219274801e+26\n",
      "6.55996695326e+25\n",
      "2.40299480318e+25\n",
      "-2.01650714302e+25\n",
      "-1.49525437159e+26\n",
      "1.55932055267e+26\n",
      "2.69534271509e+26\n",
      "2.52900887301e+26\n",
      "6.69819685478e+25\n",
      "-2.87462605076e+25\n",
      "-2.68690382307e+26\n",
      "-2.88467307009e+26\n",
      "-4.33127853397e+26\n",
      "-6.47374912533e+26\n",
      "6.19174660998e+25\n",
      "-5.06621082461e+26\n",
      "9.29318434959e+26\n",
      "-2.3414278423e+26\n",
      "-4.45316249333e+26\n",
      "-8.52515368735e+26\n",
      "-1.76881194477e+27\n",
      "-3.3290928161e+25\n",
      "4.7952145395e+26\n",
      "1.3297585979e+27\n",
      "2.47638134835e+27\n",
      "4.18882917579e+27\n",
      "5.79579905364e+26\n",
      "5.10434095392e+25\n",
      "-3.45669589328e+27\n",
      "-1.78901518373e+27\n",
      "-2.73845127569e+27\n",
      "-4.24119514298e+27\n",
      "-3.45814899426e+27\n",
      "-4.34687068432e+27\n",
      "-1.46385405926e+27\n",
      "9.73252644352e+26\n",
      "3.47850051737e+27\n",
      "4.88601213244e+27\n",
      "1.00289489026e+27\n",
      "-8.75720664314e+27\n",
      "-2.73171355359e+28\n",
      "-3.83752442941e+28\n",
      "-2.70190269869e+28\n",
      "5.87800436794e+26\n",
      "4.04669300212e+28\n",
      "5.23290845545e+28\n",
      "5.11464182532e+28\n",
      "-3.8001817888e+28\n",
      "-1.3385710619e+29\n",
      "-1.19402814532e+29\n",
      "-9.35518469389e+28\n",
      "4.57683675958e+28\n",
      "-8.8634244096e+28\n",
      "-1.96685582707e+29\n",
      "-3.38982901497e+29\n",
      "-3.25591688589e+29\n",
      "4.91855996598e+28\n",
      "-7.24158031618e+29\n",
      "-5.65996412928e+29\n",
      "-4.12365157771e+29\n",
      "-4.08297344902e+29\n",
      "1.62095188188e+30\n",
      "-7.66125401478e+28\n",
      "-1.78733038937e+30\n",
      "2.86130343172e+29\n",
      "-9.64046189698e+29\n",
      "4.60821361232e+30\n",
      "1.05392347391e+30\n",
      "2.028641804e+30\n",
      "5.87632082631e+29\n",
      "1.7428113429e+30\n",
      "2.22464337816e+30\n",
      "-8.23011530669e+28\n",
      "1.29264092251e+29\n",
      "1.17372227967e+30\n",
      "2.13345869686e+30\n",
      "1.58437660116e+30\n",
      "-5.93991133443e+30\n",
      "-5.42311799606e+30\n",
      "-8.35610084012e+30\n",
      "-2.14138378718e+30\n",
      "5.41903290638e+30\n",
      "-6.35280896319e+30\n",
      "-8.17863593972e+29\n",
      "-1.27269230126e+31\n",
      "-1.05495828189e+31\n",
      "8.89294742535e+29\n",
      "9.52600431094e+29\n",
      "-1.1188426093e+31\n",
      "-2.8361588741e+31\n",
      "-4.01625906079e+31\n",
      "-1.0498327276e+31\n",
      "2.54312079861e+31\n",
      "4.43719147338e+31\n",
      "1.06263187812e+31\n",
      "-9.6061589329e+31\n",
      "-2.54487590245e+32\n",
      "-2.74201585458e+32\n",
      "-1.5300179132e+32\n",
      "-9.87582953968e+31\n",
      "-4.77070422904e+32\n",
      "-7.87558460987e+32\n",
      "-8.86261474341e+32\n",
      "-5.40412738319e+32\n",
      "4.52251595949e+32\n",
      "6.75990596331e+32\n",
      "-1.63612509775e+33\n",
      "-1.58282888231e+33\n",
      "-1.65652876674e+33\n",
      "-3.09783811123e+33\n",
      "8.57302636921e+32\n",
      "-3.15285610797e+32\n",
      "-3.55533749157e+33\n",
      "2.84100995563e+33\n",
      "7.47305861102e+33\n",
      "-1.44559686684e+33\n",
      "9.52744115826e+33\n",
      "5.27494585096e+33\n",
      "2.12088107028e+34\n",
      "-1.91532152211e+33\n",
      "-4.73097194772e+33\n",
      "-1.30644283079e+34\n",
      "-2.48833112884e+34\n",
      "-2.78634801139e+34\n",
      "-2.43090102453e+34\n",
      "-3.21910640968e+34\n",
      "-1.80935116324e+34\n",
      "-2.75076492495e+34\n",
      "-4.5103934956e+34\n",
      "-3.68889780867e+34\n",
      "-1.17148785039e+35\n",
      "-7.69287993495e+34\n",
      "1.69544799871e+34\n",
      "-1.23567219093e+35\n",
      "-2.90507287956e+34\n",
      "-3.58705077767e+35\n",
      "-5.36663716246e+35\n"
     ]
    },
    {
     "data": {
      "text/plain": [
       "[<matplotlib.lines.Line2D at 0x11a482d30>]"
      ]
     },
     "execution_count": 329,
     "metadata": {},
     "output_type": "execute_result"
    },
    {
     "data": {
      "image/png": "[encoded data removed]",
      "text/plain": [
       "<matplotlib.figure.Figure at 0x11a2cb4a8>"
      ]
     },
     "metadata": {},
     "output_type": "display_data"
    }
   ],
   "source": [
    "\n",
    "thetas = []\n",
    "dthetas = []\n",
    "N = 500\n",
    "delay = 5\n",
    "theta = np.pi/2\n",
    "thetadot = 0.01\n",
    "dt = 1.0/30\n",
    "ts = np.arange(N+delay)*dt\n",
    "g = 9.8\n",
    "L = 0.4\n",
    "a = 0\n",
    "Kd = 10\n",
    "Kd = -(g + 1) * 2 / L\n",
    "print(Kd)\n",
    "Kpd = -10\n",
    "\n",
    "for i in range(delay):\n",
    "    theta += thetadot * dt\n",
    "    a = 0\n",
    "    thetadot += (3 / 2 * a * np.sin(theta) / L - 3 * g * np.cos(theta) / L**2) * dt\n",
    "    #print(thetadot)\n",
    "    thetas.append(theta)\n",
    "    dthetas.append(thetadot)\n",
    "def predict(theta,thetadot, n):\n",
    "    thetadot += 0#np.random.randn()*0.1\n",
    "    theta += 0#np.random.randn()*0.1\n",
    "    \n",
    "    for i in range(n):\n",
    "        theta += thetadot * dt\n",
    "        a = 0\n",
    "        thetadot += 0\n",
    "    return theta, thetadot\n",
    "    \n",
    "\n",
    "for i in range(N):\n",
    "    theta += thetadot * dt\n",
    "    ptheta, pthetadot = predict(thetas[i],dthetas[i], delay)\n",
    "    print(theta-ptheta)\n",
    "    a = Kd * (ptheta - np.pi/2) + Kpd * (pthetadot) + np.random.randn()*0.1\n",
    "    thetadot += (3 / 2 * a * np.sin(theta) / L - 3 * g * np.cos(theta) / L**2) * dt\n",
    "    #print(thetadot)\n",
    "    thetas.append(theta)\n",
    "    dthetas.append(thetadot)\n",
    "plt.plot(ts,thetas)"
   ]
  },
  {
   "cell_type": "markdown",
   "metadata": {},
   "source": [
    "Hmm. The dumb predictor does.\n",
    "\n",
    "Not working.\n",
    "Paths forward: Reinforcement Learning. First on openai cartpole\n",
    "Which flavor though? Q-Learning? \n",
    "\n",
    "LQR style control\n"
   ]
  },
  {
   "cell_type": "markdown",
   "metadata": {},
   "source": [
    "Right. So 1. I never saw the exact predictor work like no delay. That's weird"
   ]
  },
  {
   "cell_type": "code",
   "execution_count": 509,
   "metadata": {},
   "outputs": [
    {
     "name": "stdout",
     "output_type": "stream",
     "text": [
      "-54.0\n"
     ]
    },
    {
     "data": {
      "text/plain": [
       "[<matplotlib.lines.Line2D at 0x123f087f0>]"
      ]
     },
     "execution_count": 509,
     "metadata": {},
     "output_type": "execute_result"
    },
    {
     "data": {
      "image/png": "[encoded data removed]",
      "text/plain": [
       "<matplotlib.figure.Figure at 0x123fae240>"
      ]
     },
     "metadata": {},
     "output_type": "display_data"
    }
   ],
   "source": [
    "\n",
    "thetas = []\n",
    "thetas2 = []\n",
    "dthetas = []\n",
    "dthetas2 = []\n",
    "pth = []\n",
    "th = []\n",
    "N = 1000\n",
    "delay = 3\n",
    "theta = np.pi/2\n",
    "theta2 = np.pi/2\n",
    "thetadot = 0.001\n",
    "thetadot2 = 0.001\n",
    "dt = 1.0/30\n",
    "ts = np.arange(N+delay)*dt\n",
    "g = 9.8\n",
    "L = 0.4\n",
    "a = 0\n",
    "Kd = 10\n",
    "Kd = -(g + 1) * 2 / L\n",
    "print(Kd)\n",
    "Kpd = -2\n",
    "\n",
    "ass = [0]\n",
    "\n",
    "for i in range(delay):\n",
    "\n",
    "    a = 0\n",
    "    #ass.append(a)\n",
    "    theta, thetadot = step(theta,thetadot,a)\n",
    "    theta2, thetadot2 = step(theta2,thetadot2,a)\n",
    "    thetas.append(theta)\n",
    "    dthetas.append(thetadot)\n",
    "    thetas2.append(theta2)\n",
    "    dthetas2.append(thetadot2)\n",
    "    ass.append(a)\n",
    "    \n",
    "\n",
    "def step(theta, thetadot1, a):\n",
    "    theta = theta + thetadot1 * dt\n",
    "    thetadot1 = thetadot1 +  (3 / 2 * a * np.sin(theta) / L - 3 * g * np.cos(theta) / L**2) * dt\n",
    "    return theta, thetadot1\n",
    "       \n",
    "def predict(theta3,thetadot3,a, n):\n",
    "    thetadot3 += np.random.randn()*0.01\n",
    "    theta3 += np.random.randn()*0.01\n",
    "    \n",
    "    for i in range(n-1):\n",
    "        #print(\"int loop\")\n",
    "        #thetadot2 = thetadot3\n",
    "        a = Kd * (theta3 - np.pi/2) + Kpd * (thetadot3)\n",
    "        theta3, thetadot3 = step(theta3, thetadot3, a)\n",
    "        #a = Kd * (theta3 - np.pi/2) + Kpd * (thetadot3)\n",
    "    #_, thetadot3 = step(theta3, thetadot3, 0)\n",
    "    return theta3, thetadot3\n",
    "    \n",
    "#theta2 = theta\n",
    "#thetadot2 = thetadot\n",
    "for i in range(N):\n",
    "    ptheta, pthetadot = predict(thetas2[-delay],dthetas2[-delay],ass[-delay], delay)\n",
    "    #print(theta-ptheta)\n",
    "    #print(thetadot-pthetadot)\n",
    "    pth.append(pthetadot)\n",
    "    #pt.append(ptheta)\n",
    "    th.append(thetadot)\n",
    "    a = Kd * (theta - np.pi/2) + Kpd * (thetadot)\n",
    "    a2 = Kd * (ptheta - np.pi/2) + (Kpd-0.5) * (pthetadot) #+ np.random.randn()*0.1\n",
    "    ass.append(a2)\n",
    "    #print(a2-a)\n",
    "    theta2, thetadot2 = step(thetas2[-1], dthetas2[-1], a2)\n",
    "    theta, thetadot = step(thetas[-1], dthetas[-1], a)\n",
    "    #theta2, thetadot2 = step(theta2, thetadot2, a)\n",
    "    thetas.append(theta)\n",
    "    dthetas.append(thetadot)\n",
    "    thetas2.append(theta2)\n",
    "    dthetas2.append(thetadot2)\n",
    "\n",
    "plt.plot(ts,thetas)\n",
    "plt.plot(ts,thetas2)\n",
    "#plt.plot(pth[0:40])\n",
    "#plt.plot(th[0:40])"
   ]
  },
  {
   "cell_type": "code",
   "execution_count": null,
   "metadata": {
    "collapsed": true
   },
   "outputs": [],
   "source": []
  }
 ],
 "metadata": {
  "kernelspec": {
   "display_name": "Python 3",
   "language": "python",
   "name": "python3"
  },
  "language_info": {
   "codemirror_mode": {
    "name": "ipython",
    "version": 3
   },
   "file_extension": ".py",
   "mimetype": "text/x-python",
   "name": "python",
   "nbconvert_exporter": "python",
   "pygments_lexer": "ipython3",
   "version": "3.6.3"
  }
 },
 "nbformat": 4,
 "nbformat_minor": 2
}
