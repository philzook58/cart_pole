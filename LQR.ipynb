{
 "cells": [
  {
   "cell_type": "markdown",
   "metadata": {},
   "source": [
    "So, the LQR algorithm (linear qudaratic regulator)\n",
    "Some conventions:\n",
    "x is state vector.\n",
    "u is control \n",
    "\n",
    "Cost is quadratic\n",
    "Cost = xQx + uRu\n",
    "dynamics are linear\n",
    "x_{t+1} = Ax_t + Bu_t\n",
    "\n",
    "One way to do is to just us a lagrange mutiplier\n",
    "\n",
    "Min ( xQx + uRu + \\lambda(x_{t+1}- Ax_t-Bu_t)   )\n",
    "\n",
    "Another way is the fdynamic programming method, which has the benefit of giving feedback matrices \n",
    "u_t = -Kx_t\n",
    "\n",
    "V_t is amatirx that tells the expected cost xVx if you control optimally in state x.\n",
    "\n",
    "There is a clear schur complement at play. Not clear clear, but it is there\n",
    "A = Q + A.T V A\n",
    "D = R + B.T V B\n",
    "B = C.T = A.T V B\n",
    "\n",
    "\n",
    "\n",
    "I can follow along notes of derivations, and i can derive it myself, but I find there are enough  moving parts that the code seems pretty opaque\n",
    "\n",
    "https://stanford.edu/class/ee363/lectures/dlqr.pdf"
   ]
  },
  {
   "cell_type": "code",
   "execution_count": null,
   "metadata": {},
   "outputs": [],
   "source": [
    "#initialize V\n",
    "T = 10\n",
    "V = Q\n",
    "for i in reversed(range(T)):\n",
    "    M = A.T @ V @ B\n",
    "    K = np.inv(R + B.T @ V @ B) @ M.T\n",
    "    V = Q + A.T @ V @ A -  M @ K "
   ]
  },
  {
   "cell_type": "code",
   "execution_count": 25,
   "metadata": {},
   "outputs": [],
   "source": [
    "import sympy as sym\n",
    "from sympy import MatrixSymbol, MatMul\n",
    "sym.init_printing()"
   ]
  },
  {
   "cell_type": "code",
   "execution_count": 22,
   "metadata": {},
   "outputs": [],
   "source": [
    "Nx = 2\n",
    "Nu = 1\n",
    "#output by input dimensioned\n",
    "A = MatrixSymbol('A', Nx, Nx)\n",
    "B = MatrixSymbol('B', Nx, Nu)\n",
    "Q = MatrixSymbol('Q', Nx, Nx)\n",
    "R = MatrixSymbol('R', Nu, Nu)\n",
    "Vt = MatrixSymbol('V_t', Nx, Nx)\n",
    "Vt1 = MatrixSymbol('V_{t+1}', Nx, Nx)\n",
    "u = MatrixSymbol('u', Nu, 1)\n",
    "xt = MatrixSymbol('x_t', Nx, 1)\n",
    "xt1 = MatrixSymbol('x_{t+1}', Nx, 1)"
   ]
  },
  {
   "cell_type": "code",
   "execution_count": 27,
   "metadata": {},
   "outputs": [
    {
     "data": {
      "image/png": "[encoded data removed]",
      "text/latex": [
       "$$x_{t+1} = A x_{t} + B u$$"
      ],
      "text/plain": [
       "x_{t+1} = A⋅x_t + B⋅u"
      ]
     },
     "execution_count": 27,
     "metadata": {},
     "output_type": "execute_result"
    }
   ],
   "source": [
    "sym.Eq(xt1, A*xt + B * u)"
   ]
  },
  {
   "cell_type": "code",
   "execution_count": 28,
   "metadata": {},
   "outputs": [],
   "source": [
    "Vtexpr = xt.T * Q * xt + xt1.T * Vt1 * xt1 + u.T * R * u"
   ]
  },
  {
   "cell_type": "code",
   "execution_count": 37,
   "metadata": {},
   "outputs": [
    {
     "data": {
      "image/png": "[encoded data removed]",
      "text/latex": [
       "$$u^T R u + x_{t}^T Q x_{t} + \\left(A x_{t} + B u\\right)^T V_{t+1} \\left(A x_{t} + B u\\right)$$"
      ],
      "text/plain": [
       " T          T                      T                      \n",
       "u ⋅R⋅u + x_t ⋅Q⋅x_t + (A⋅x_t + B⋅u) ⋅V_{t+1}⋅(A⋅x_t + B⋅u)"
      ]
     },
     "execution_count": 37,
     "metadata": {},
     "output_type": "execute_result"
    }
   ],
   "source": [
    "e2 = Vtexpr.subs(xt1, A * xt + B * u)\n",
    "e2"
   ]
  },
  {
   "cell_type": "code",
   "execution_count": 36,
   "metadata": {},
   "outputs": [
    {
     "ename": "AttributeError",
     "evalue": "'MatrixSymbol' object has no attribute '_diff_wrt'",
     "output_type": "error",
     "traceback": [
      "\u001b[0;31m---------------------------------------------------------------------------\u001b[0m",
      "\u001b[0;31mAttributeError\u001b[0m                            Traceback (most recent call last)",
      "\u001b[0;32m<ipython-input-36-063c1c7c6eac>\u001b[0m in \u001b[0;36m<module>\u001b[0;34m()\u001b[0m\n\u001b[0;32m----> 1\u001b[0;31m \u001b[0msym\u001b[0m\u001b[0;34m.\u001b[0m\u001b[0mdiff\u001b[0m\u001b[0;34m(\u001b[0m\u001b[0me2\u001b[0m\u001b[0;34m,\u001b[0m \u001b[0mu\u001b[0m\u001b[0;34m)\u001b[0m\u001b[0;34m\u001b[0m\u001b[0m\n\u001b[0m",
      "\u001b[0;32m/home/philip/.local/lib/python2.7/site-packages/sympy/core/function.pyc\u001b[0m in \u001b[0;36mdiff\u001b[0;34m(f, *symbols, **kwargs)\u001b[0m\n\u001b[1;32m   1835\u001b[0m     \u001b[0;32mexcept\u001b[0m \u001b[0mAttributeError\u001b[0m\u001b[0;34m:\u001b[0m\u001b[0;34m\u001b[0m\u001b[0m\n\u001b[1;32m   1836\u001b[0m         \u001b[0;32mpass\u001b[0m\u001b[0;34m\u001b[0m\u001b[0m\n\u001b[0;32m-> 1837\u001b[0;31m     \u001b[0;32mreturn\u001b[0m \u001b[0mDerivative\u001b[0m\u001b[0;34m(\u001b[0m\u001b[0mf\u001b[0m\u001b[0;34m,\u001b[0m \u001b[0;34m*\u001b[0m\u001b[0msymbols\u001b[0m\u001b[0;34m,\u001b[0m \u001b[0;34m**\u001b[0m\u001b[0mkwargs\u001b[0m\u001b[0;34m)\u001b[0m\u001b[0;34m\u001b[0m\u001b[0m\n\u001b[0m\u001b[1;32m   1838\u001b[0m \u001b[0;34m\u001b[0m\u001b[0m\n\u001b[1;32m   1839\u001b[0m \u001b[0;34m\u001b[0m\u001b[0m\n",
      "\u001b[0;32m/home/philip/.local/lib/python2.7/site-packages/sympy/core/function.pyc\u001b[0m in \u001b[0;36m__new__\u001b[0;34m(cls, expr, *variables, **assumptions)\u001b[0m\n\u001b[1;32m   1096\u001b[0m             \u001b[0mv\u001b[0m\u001b[0;34m,\u001b[0m \u001b[0mcount\u001b[0m \u001b[0;34m=\u001b[0m \u001b[0mvariables\u001b[0m\u001b[0;34m[\u001b[0m\u001b[0mi\u001b[0m\u001b[0;34m:\u001b[0m \u001b[0mi\u001b[0m \u001b[0;34m+\u001b[0m \u001b[0;36m2\u001b[0m\u001b[0;34m]\u001b[0m\u001b[0;34m\u001b[0m\u001b[0m\n\u001b[1;32m   1097\u001b[0m             \u001b[0miwas\u001b[0m \u001b[0;34m=\u001b[0m \u001b[0mi\u001b[0m\u001b[0;34m\u001b[0m\u001b[0m\n\u001b[0;32m-> 1098\u001b[0;31m             \u001b[0;32mif\u001b[0m \u001b[0mv\u001b[0m\u001b[0;34m.\u001b[0m\u001b[0m_diff_wrt\u001b[0m\u001b[0;34m:\u001b[0m\u001b[0;34m\u001b[0m\u001b[0m\n\u001b[0m\u001b[1;32m   1099\u001b[0m                 \u001b[0;31m# We need to test the more specific case of count being an\u001b[0m\u001b[0;34m\u001b[0m\u001b[0;34m\u001b[0m\u001b[0m\n\u001b[1;32m   1100\u001b[0m                 \u001b[0;31m# Integer first.\u001b[0m\u001b[0;34m\u001b[0m\u001b[0;34m\u001b[0m\u001b[0m\n",
      "\u001b[0;31mAttributeError\u001b[0m: 'MatrixSymbol' object has no attribute '_diff_wrt'"
     ]
    }
   ],
   "source": [
    "sym.diff(e2, u)"
   ]
  },
  {
   "cell_type": "code",
   "execution_count": null,
   "metadata": {},
   "outputs": [],
   "source": [
    "quadexpr[\"u\"][\"u\"] = \n",
    "def quadfun(x,u):\n",
    "    return xQx + uRu\n",
    "#sample to reconstruct the piece you want\n",
    "\n",
    "data QuadTerm = Quad Sym1 Sym2 Matrix | LinTerm Sym Vec | Const \n",
    "[Quadterm]\n",
    "sub\n",
    "minim Sym [Quadterm]\n",
    "# diff wrt u or x\n",
    "# min \n",
    "# solve "
   ]
  },
  {
   "cell_type": "code",
   "execution_count": null,
   "metadata": {},
   "outputs": [],
   "source": [
    "c = "
   ]
  },
  {
   "cell_type": "markdown",
   "metadata": {},
   "source": [
    "Ok. So that is a start, but we need to use something with a bit more oomph for a nonlinear situation\n",
    "https://studywolf.wordpress.com/2016/02/03/the-iterative-linear-quadratic-regulator-method/\n",
    "\n"
   ]
  },
  {
   "cell_type": "code",
   "execution_count": 8,
   "metadata": {},
   "outputs": [],
   "source": [
    "t=sym.Symbol('t')\n",
    "state = map( lambda y: sym.Function(y)(t),'theta thetad'.split() )"
   ]
  },
  {
   "cell_type": "code",
   "execution_count": null,
   "metadata": {},
   "outputs": [],
   "source": [
    "example = [('x' ,'x',np.ones((3,3))), ()]\n"
   ]
  }
 ],
 "metadata": {
  "kernelspec": {
   "display_name": "Python 3",
   "language": "python",
   "name": "python3"
  },
  "language_info": {
   "codemirror_mode": {
    "name": "ipython",
    "version": 2
   },
   "file_extension": ".py",
   "mimetype": "text/x-python",
   "name": "python",
   "nbconvert_exporter": "python",
   "pygments_lexer": "ipython2",
   "version": "2.7.14"
  }
 },
 "nbformat": 4,
 "nbformat_minor": 2
}
